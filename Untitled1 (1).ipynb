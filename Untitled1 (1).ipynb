{
  "nbformat": 4,
  "nbformat_minor": 0,
  "metadata": {
    "colab": {
      "provenance": []
    },
    "kernelspec": {
      "name": "python3",
      "display_name": "Python 3"
    },
    "language_info": {
      "name": "python"
    }
  },
  "cells": [
    {
      "cell_type": "code",
      "execution_count": 1,
      "metadata": {
        "colab": {
          "base_uri": "https://localhost:8080/"
        },
        "id": "LACl0pYRMcA_",
        "outputId": "132ca9db-bccf-4dc1-b7fb-fe908ff26ada"
      },
      "outputs": [
        {
          "output_type": "stream",
          "name": "stdout",
          "text": [
            "75.0㎠\n",
            "75.0㎠\n"
          ]
        }
      ],
      "source": [
        "\"\"\"\n",
        "上辺：10cm\n",
        "下辺：20cm\n",
        "高さ：5cm\n",
        "\n",
        "公式：台形の面積 =（上辺＋下辺）× 高さ ÷ 2\n",
        "\"\"\"\n",
        "\n",
        "upper_base = 10\n",
        "lower_base = 20\n",
        "height = 5\n",
        "\n",
        "# 変数area_trapezoidを用いたケース（Formuraとして利用できるので便利）\n",
        "area_trapezoid = (upper_base + lower_base) * height / 2\n",
        "print(str(area_trapezoid) + \"㎠\")\n",
        "\n",
        "# 変数area_trapezoidを用いないケース（計算順序をかっこで指示する必要がある）\n",
        "print(str(((upper_base + lower_base) * height) / 2) + \"㎠\" )"
      ]
    }
  ]
}